{
 "cells": [
  {
   "cell_type": "code",
   "execution_count": 7,
   "id": "9bc001d0",
   "metadata": {},
   "outputs": [],
   "source": [
    "import pandas as pd\n",
    "import os, shutil"
   ]
  },
  {
   "cell_type": "code",
   "execution_count": 6,
   "id": "81df0f53",
   "metadata": {},
   "outputs": [
    {
     "data": {
      "text/html": [
       "<div>\n",
       "<style scoped>\n",
       "    .dataframe tbody tr th:only-of-type {\n",
       "        vertical-align: middle;\n",
       "    }\n",
       "\n",
       "    .dataframe tbody tr th {\n",
       "        vertical-align: top;\n",
       "    }\n",
       "\n",
       "    .dataframe thead th {\n",
       "        text-align: right;\n",
       "    }\n",
       "</style>\n",
       "<table border=\"1\" class=\"dataframe\">\n",
       "  <thead>\n",
       "    <tr style=\"text-align: right;\">\n",
       "      <th></th>\n",
       "      <th>Name</th>\n",
       "      <th>Image</th>\n",
       "    </tr>\n",
       "  </thead>\n",
       "  <tbody>\n",
       "    <tr>\n",
       "      <th>0</th>\n",
       "      <td>n01443537</td>\n",
       "      <td>val_68.JPEG</td>\n",
       "    </tr>\n",
       "    <tr>\n",
       "      <th>1</th>\n",
       "      <td>n01443537</td>\n",
       "      <td>val_611.JPEG</td>\n",
       "    </tr>\n",
       "    <tr>\n",
       "      <th>2</th>\n",
       "      <td>n01443537</td>\n",
       "      <td>val_651.JPEG</td>\n",
       "    </tr>\n",
       "    <tr>\n",
       "      <th>3</th>\n",
       "      <td>n01443537</td>\n",
       "      <td>val_653.JPEG</td>\n",
       "    </tr>\n",
       "    <tr>\n",
       "      <th>4</th>\n",
       "      <td>n01443537</td>\n",
       "      <td>val_886.JPEG</td>\n",
       "    </tr>\n",
       "    <tr>\n",
       "      <th>...</th>\n",
       "      <td>...</td>\n",
       "      <td>...</td>\n",
       "    </tr>\n",
       "    <tr>\n",
       "      <th>9995</th>\n",
       "      <td>n12267677</td>\n",
       "      <td>val_8839.JPEG</td>\n",
       "    </tr>\n",
       "    <tr>\n",
       "      <th>9996</th>\n",
       "      <td>n12267677</td>\n",
       "      <td>val_8841.JPEG</td>\n",
       "    </tr>\n",
       "    <tr>\n",
       "      <th>9997</th>\n",
       "      <td>n12267677</td>\n",
       "      <td>val_9229.JPEG</td>\n",
       "    </tr>\n",
       "    <tr>\n",
       "      <th>9998</th>\n",
       "      <td>n12267677</td>\n",
       "      <td>val_9446.JPEG</td>\n",
       "    </tr>\n",
       "    <tr>\n",
       "      <th>9999</th>\n",
       "      <td>n12267677</td>\n",
       "      <td>val_9827.JPEG</td>\n",
       "    </tr>\n",
       "  </tbody>\n",
       "</table>\n",
       "<p>10000 rows × 2 columns</p>\n",
       "</div>"
      ],
      "text/plain": [
       "           Name          Image\n",
       "0     n01443537    val_68.JPEG\n",
       "1     n01443537   val_611.JPEG\n",
       "2     n01443537   val_651.JPEG\n",
       "3     n01443537   val_653.JPEG\n",
       "4     n01443537   val_886.JPEG\n",
       "...         ...            ...\n",
       "9995  n12267677  val_8839.JPEG\n",
       "9996  n12267677  val_8841.JPEG\n",
       "9997  n12267677  val_9229.JPEG\n",
       "9998  n12267677  val_9446.JPEG\n",
       "9999  n12267677  val_9827.JPEG\n",
       "\n",
       "[10000 rows x 2 columns]"
      ]
     },
     "execution_count": 6,
     "metadata": {},
     "output_type": "execute_result"
    }
   ],
   "source": [
    "df = pd.read_csv('/Users/vishalbns/Desktop/IE7615 Deep Learning/TinyImageNet/tiny-imagenet-200/val/Val_annots.csv')\n",
    "df"
   ]
  },
  {
   "cell_type": "code",
   "execution_count": 12,
   "id": "114e1463",
   "metadata": {},
   "outputs": [
    {
     "name": "stdout",
     "output_type": "stream",
     "text": [
      "/Users/vishalbns/Desktop/IE7615 Deep Learning/TinyImageNet/tiny-imagenet-200/val/images/val_68.JPEG\n"
     ]
    }
   ],
   "source": [
    "parent_dir = '/Users/vishalbns/Desktop/IE7615 Deep Learning/TinyImageNet/tiny-imagenet-200/val/'\n",
    "print(parent_dir+ 'images/' + df.loc[0]['Image'])"
   ]
  },
  {
   "cell_type": "code",
   "execution_count": 17,
   "id": "0655a8e5",
   "metadata": {},
   "outputs": [],
   "source": [
    "parent_dir = '/Users/vishalbns/Desktop/IE7615 Deep Learning/TinyImageNet/tiny-imagenet-200/val/'\n",
    "for i in range(len(df)):\n",
    "    image_path = os.path.join(parent_dir, df.loc[i]['Name'])\n",
    "    if not os.path.exists(parent_dir + df.loc[i]['Name']):\n",
    "        os.mkdir(image_path)\n",
    "    shutil.copy(parent_dir + 'images/' + df.loc[i]['Image'], image_path)"
   ]
  },
  {
   "cell_type": "code",
   "execution_count": null,
   "id": "01c3e2b9",
   "metadata": {},
   "outputs": [],
   "source": [
    "df = pd.read_csv('tiny-imagenet-200/val/Val_annots.csv')\n",
    "\n",
    "parent_dir = 'tiny-imagenet-200/val/'\n",
    "for i in range(len(df)):\n",
    "    image_path = os.path.join(parent_dir, df.loc[i]['Name'])\n",
    "    if not os.path.exists(parent_dir + df.loc[i]['Name']):\n",
    "        os.mkdir(image_path)\n",
    "    shutil.copy(parent_dir + 'images/' + df.loc[i]['Image'], image_path)\n",
    "    \n",
    "shutil.rmtree(/Users/vishalbns/Desktop/IE7615 Deep Learning/TinyImageNet/tiny-imagenet-200 + 'images)"
   ]
  }
 ],
 "metadata": {
  "kernelspec": {
   "display_name": "Python 3",
   "language": "python",
   "name": "python3"
  },
  "language_info": {
   "codemirror_mode": {
    "name": "ipython",
    "version": 3
   },
   "file_extension": ".py",
   "mimetype": "text/x-python",
   "name": "python",
   "nbconvert_exporter": "python",
   "pygments_lexer": "ipython3",
   "version": "3.9.16"
  }
 },
 "nbformat": 4,
 "nbformat_minor": 5
}
